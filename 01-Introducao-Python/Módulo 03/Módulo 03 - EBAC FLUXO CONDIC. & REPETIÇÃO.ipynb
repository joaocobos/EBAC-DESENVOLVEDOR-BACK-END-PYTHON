{
  "cells": [
    {
      "cell_type": "markdown",
      "metadata": {
        "id": "KJqp9AANOCtf"
      },
      "source": [
        "<img src=\"https://raw.githubusercontent.com/andre-marcos-perez/ebac-course-utils/main/media/logo/newebac_logo_black_half.png\" alt=\"ebac-logo\">\n",
        "\n",
        "---\n",
        "\n",
        "# **Módulo** | Python: Fluxo Condicional & Repetição\n",
        "Caderno de **Aula**<br>\n",
        "Professor [André Perez](https://www.linkedin.com/in/andremarcosperez/)\n",
        "\n",
        "---"
      ]
    },
    {
      "cell_type": "markdown",
      "metadata": {
        "id": "d9jDtUbDOE1-"
      },
      "source": [
        "# **Tópicos**\n",
        "\n",
        "<ol type=\"1\">\n",
        "  <li>Estrutura condicional if / else / elif;</li>\n",
        "  <li>Estrutura condicional try / catch / finally;</li>\n",
        "  <li>Estrutura de repetição for / in.</li>\n",
        "</ol>"
      ]
    },
    {
      "cell_type": "markdown",
      "metadata": {
        "id": "SmoHgt-lwkpD"
      },
      "source": [
        "---"
      ]
    },
    {
      "cell_type": "markdown",
      "metadata": {
        "id": "GABI6OW8OfQ2"
      },
      "source": [
        "# **Aulas**"
      ]
    },
    {
      "cell_type": "markdown",
      "metadata": {
        "id": "muD1vxozykSC"
      },
      "source": [
        "## 1\\. Estrutura condicional if / else / elif"
      ]
    },
    {
      "cell_type": "markdown",
      "metadata": {
        "id": "E6D5rjlESJ1A"
      },
      "source": [
        "### **1.1. if / else**"
      ]
    },
    {
      "cell_type": "markdown",
      "metadata": {
        "id": "2SIVm6ySRaeI"
      },
      "source": [
        "Estrutura de alteração de fluxo lógico do código, avalia um valor booleano ou uma comparação lógica. **Note** a identação do código."
      ]
    },
    {
      "cell_type": "markdown",
      "metadata": {
        "id": "jfrmdxoJVw-l"
      },
      "source": [
        "```python\n",
        "if <booleano / comparação lógica> == True:\n",
        "  <execute este código>\n",
        "else:\n",
        "  <senão execute este código>\n",
        "```"
      ]
    },
    {
      "cell_type": "code",
      "execution_count": 1,
      "metadata": {
        "id": "7tNcqW3aTZPr",
        "colab": {
          "base_uri": "https://localhost:8080/"
        },
        "outputId": "c4009ff3-73a6-4595-cca5-4fa56106efcb"
      },
      "outputs": [
        {
          "output_type": "stream",
          "name": "stdout",
          "text": [
            "Falso\n"
          ]
        }
      ],
      "source": [
        "if False:\n",
        "  print(\"Verdadeiro\")\n",
        "else:\n",
        "  print(\"Falso\")"
      ]
    },
    {
      "cell_type": "markdown",
      "metadata": {
        "id": "e3h_XvXxTSqd"
      },
      "source": [
        "**Exemplo**: Código de segurança de um cartão de crédito"
      ]
    },
    {
      "cell_type": "code",
      "execution_count": 2,
      "metadata": {
        "id": "3ungC6KPSg1y",
        "colab": {
          "base_uri": "https://localhost:8080/"
        },
        "outputId": "6772593a-1664-4f44-e78d-b81a7ec5361c"
      },
      "outputs": [
        {
          "output_type": "stream",
          "name": "stdout",
          "text": [
            "Código de segurança inválido.\n"
          ]
        }
      ],
      "source": [
        "codigo_seguranca = '157'\n",
        "cvv_cadastrado = '912'\n",
        "\n",
        "if codigo_seguranca == cvv_cadastrado:\n",
        "    print('Pagamento efetuado. #8329981')\n",
        "else:\n",
        "    print('Código de segurança inválido.')"
      ]
    },
    {
      "cell_type": "markdown",
      "metadata": {
        "id": "zvvqNNM1UDzh"
      },
      "source": [
        "**Exemplo**: Código e senha de segurança de um cartão de crédito"
      ]
    },
    {
      "cell_type": "code",
      "execution_count": 3,
      "metadata": {
        "id": "42kdrjL3UPnt"
      },
      "outputs": [],
      "source": [
        "credit_card = '6062825032201322'\n",
        "credit_card_cadastrado = '6062825032201322'\n",
        "codigo_seguranca1 = '220'\n",
        "cvv_cadastrado1 = '220'"
      ]
    },
    {
      "cell_type": "markdown",
      "metadata": {
        "id": "tvmgUmH5UZlj"
      },
      "source": [
        "Revisitando a tabela da verdade:"
      ]
    },
    {
      "cell_type": "markdown",
      "metadata": {
        "id": "CMkW6VfqUX73"
      },
      "source": [
        "| CÓDIGO        | SENHA        | | | CÓDIGO OR SENHA   | | CÓDIGO AND SENHA  | | NOT CÓDIGO    |\n",
        "|----------|----------|-|-|----------|-|----------|-|----------|\n",
        "| **TRUE** | **TRUE** | | | **TRUE** | | **TRUE** | | FALSE    |\n",
        "| **TRUE** | FALSE    | | | **TRUE** | | FALSE    | | FALSE    |\n",
        "| FALSE    | FALSE    | | | FALSE    | | FALSE    | | **TRUE** |\n",
        "| FALSE    | **TRUE** | | | **TRUE** | | FALSE    | | **TRUE** |"
      ]
    },
    {
      "cell_type": "code",
      "execution_count": 4,
      "metadata": {
        "id": "ypis6-LgUn5z",
        "colab": {
          "base_uri": "https://localhost:8080/"
        },
        "outputId": "c9568e91-cd3f-4fde-ad1e-bdb4925995c3"
      },
      "outputs": [
        {
          "output_type": "stream",
          "name": "stdout",
          "text": [
            "Pagamento efetuado. #8329981\n",
            "Acompanhe o status do seu pedido.\n"
          ]
        }
      ],
      "source": [
        "# ESTRUTURA PARA COMPARAR MÚLTIPLAS VARIÁVEIS: ==\n",
        "\n",
        "if (credit_card == credit_card_cadastrado) & (codigo_seguranca1 == cvv_cadastrado1):\n",
        "    print('Pagamento efetuado. #8329981')\n",
        "    print('Acompanhe o status do seu pedido.')\n",
        "else:\n",
        "    print('Pagamento não autorizado.')"
      ]
    },
    {
      "cell_type": "code",
      "execution_count": 5,
      "metadata": {
        "id": "DCCPknUSUwQM",
        "colab": {
          "base_uri": "https://localhost:8080/"
        },
        "outputId": "582cd322-d4de-480d-d232-f421451953ca"
      },
      "outputs": [
        {
          "output_type": "stream",
          "name": "stdout",
          "text": [
            "Pagamento efetuado. #8329981\n",
            "Acompanha o status do seu pedido.\n"
          ]
        }
      ],
      "source": [
        "# ESTRUTURA PARA COMPARAR VARIÁVEIS DIFERENTES: !=\n",
        "\n",
        "if (credit_card != credit_card_cadastrado) | (codigo_seguranca1 != cvv_cadastrado1):\n",
        "    print('Pagamento não autorizado.')\n",
        "else:\n",
        "    print('Pagamento efetuado. #8329981')\n",
        "    print('Acompanha o status do seu pedido.')"
      ]
    },
    {
      "cell_type": "markdown",
      "metadata": {
        "id": "wNkFG1qKSU9M"
      },
      "source": [
        "### **1.2. if / elif / else**"
      ]
    },
    {
      "cell_type": "markdown",
      "metadata": {
        "id": "9c-GagIqSjUA"
      },
      "source": [
        "Podemos também avaliar múltipla condições."
      ]
    },
    {
      "cell_type": "markdown",
      "metadata": {
        "id": "G66Dxs8pWXPU"
      },
      "source": [
        "```python\n",
        "if <1º booleano / 1ª comparação lógica> == True:\n",
        "  <execute este código se a primeira condição for verdade>\n",
        "elif <2º booleano / 2ª comparação lógica> == True:\n",
        "  <execute este código se a segunda condição for verdade>\n",
        "else:\n",
        "  <senão execute este código>\n",
        "```"
      ]
    },
    {
      "cell_type": "markdown",
      "metadata": {
        "id": "e982wq8XTq49"
      },
      "source": [
        "| CÓDIGO        | SENHA        | | | CÓDIGO AND SENHA  | MENSAGEM |\n",
        "|----------|----------|-|-|----------|-|\n",
        "| **TRUE** | **TRUE** | | | **TRUE** | Pagamento efetuado |\n",
        "| **TRUE** | FALSE    | | | FALSE    | Erro: Senha inválida |\n",
        "| FALSE    | FALSE    | | | FALSE    | Erro: Código de segurança e senha inválidos |\n",
        "| FALSE    | **TRUE** | | | FALSE    | Erro: Código de segurança inválido |"
      ]
    },
    {
      "cell_type": "code",
      "execution_count": 6,
      "metadata": {
        "id": "rbjgy-XSSy8w",
        "colab": {
          "base_uri": "https://localhost:8080/"
        },
        "outputId": "dbd0ac39-1648-41cb-84f0-fde4e7521be4"
      },
      "outputs": [
        {
          "output_type": "stream",
          "name": "stdout",
          "text": [
            "Obaaaa! Pagamento pré-aprovado.\n"
          ]
        }
      ],
      "source": [
        "if (credit_card == credit_card_cadastrado) & (codigo_seguranca1 == cvv_cadastrado1):\n",
        "    print('Obaaaa! Pagamento pré-aprovado.')\n",
        "elif (credit_card == credit_card_cadastrado) & (codigo_seguranca1 != cvv_cadastrado1):\n",
        "    print('Código de segurança inválido.')\n",
        "elif (credit_card != credit_card_cadastrado) & (codigo_seguranca1 == cvv_cadastrado1):\n",
        "    print('Número do cartão inválido.')\n",
        "else:\n",
        "    print('Número do cartão inválido e código de segurança inválido.')"
      ]
    },
    {
      "cell_type": "markdown",
      "metadata": {
        "id": "4rRCvy_UURrM"
      },
      "source": [
        "## 2\\. Estrutura condicional try /except / finally"
      ]
    },
    {
      "cell_type": "markdown",
      "metadata": {
        "id": "cOZDKbe6URrb"
      },
      "source": [
        "### **2.1. Exceção**"
      ]
    },
    {
      "cell_type": "markdown",
      "metadata": {
        "id": "nfc742pLmgL9"
      },
      "source": [
        "Exceções são erros que podem acontecer durante a execução do nosso código."
      ]
    },
    {
      "cell_type": "markdown",
      "metadata": {
        "id": "0je_kLq_myEV"
      },
      "source": [
        "**Exemplo**: Erro de operações numéricas impossíveis"
      ]
    },
    {
      "cell_type": "code",
      "execution_count": 7,
      "metadata": {
        "id": "2yXpo2dfmm1T"
      },
      "outputs": [],
      "source": [
        "preco = 132.85\n",
        "pessoas = 0"
      ]
    },
    {
      "cell_type": "code",
      "execution_count": 8,
      "metadata": {
        "id": "LsrxSe--nI6b",
        "colab": {
          "base_uri": "https://localhost:8080/",
          "height": 175
        },
        "outputId": "e1bd50bf-1010-4f72-f586-df88eee35ef6"
      },
      "outputs": [
        {
          "output_type": "error",
          "ename": "ZeroDivisionError",
          "evalue": "float division by zero",
          "traceback": [
            "\u001b[0;31m---------------------------------------------------------------------------\u001b[0m",
            "\u001b[0;31mZeroDivisionError\u001b[0m                         Traceback (most recent call last)",
            "\u001b[0;32m<ipython-input-8-995750ad573d>\u001b[0m in \u001b[0;36m<cell line: 1>\u001b[0;34m()\u001b[0m\n\u001b[0;32m----> 1\u001b[0;31m \u001b[0mvalor_por_pessoa\u001b[0m \u001b[0;34m=\u001b[0m \u001b[0mpreco\u001b[0m \u001b[0;34m/\u001b[0m \u001b[0mpessoas\u001b[0m\u001b[0;34m\u001b[0m\u001b[0;34m\u001b[0m\u001b[0m\n\u001b[0m",
            "\u001b[0;31mZeroDivisionError\u001b[0m: float division by zero"
          ]
        }
      ],
      "source": [
        "valor_por_pessoa = preco / pessoas"
      ]
    },
    {
      "cell_type": "markdown",
      "metadata": {
        "id": "paZfxkVzm3gW"
      },
      "source": [
        "**Exemplo**: Erro por combinações de tipos diferentes"
      ]
    },
    {
      "cell_type": "code",
      "execution_count": 9,
      "metadata": {
        "id": "rrlR9Xv6nErH",
        "colab": {
          "base_uri": "https://localhost:8080/",
          "height": 227
        },
        "outputId": "9f8d369b-a1ad-4b75-a103-516849f5426b"
      },
      "outputs": [
        {
          "output_type": "error",
          "ename": "TypeError",
          "evalue": "can only concatenate str (not \"int\") to str",
          "traceback": [
            "\u001b[0;31m---------------------------------------------------------------------------\u001b[0m",
            "\u001b[0;31mTypeError\u001b[0m                                 Traceback (most recent call last)",
            "\u001b[0;32m<ipython-input-9-911c67b646f3>\u001b[0m in \u001b[0;36m<cell line: 4>\u001b[0;34m()\u001b[0m\n\u001b[1;32m      2\u001b[0m \u001b[0midade\u001b[0m \u001b[0;34m=\u001b[0m \u001b[0;36m22\u001b[0m\u001b[0;34m\u001b[0m\u001b[0;34m\u001b[0m\u001b[0m\n\u001b[1;32m      3\u001b[0m \u001b[0;34m\u001b[0m\u001b[0m\n\u001b[0;32m----> 4\u001b[0;31m \u001b[0mapresentacao\u001b[0m \u001b[0;34m=\u001b[0m \u001b[0;34m'PRAZER MEU NOME É'\u001b[0m \u001b[0;34m+\u001b[0m \u001b[0;34m' '\u001b[0m \u001b[0;34m+\u001b[0m \u001b[0mnome\u001b[0m \u001b[0;34m+\u001b[0m \u001b[0;34m' '\u001b[0m \u001b[0;34m+\u001b[0m \u001b[0;34m'E TENHO'\u001b[0m \u001b[0;34m+\u001b[0m \u001b[0;34m' '\u001b[0m \u001b[0;34m+\u001b[0m \u001b[0midade\u001b[0m \u001b[0;34m+\u001b[0m \u001b[0;34m' '\u001b[0m \u001b[0;34m+\u001b[0m \u001b[0;34m'ANOS'\u001b[0m\u001b[0;34m\u001b[0m\u001b[0;34m\u001b[0m\u001b[0m\n\u001b[0m\u001b[1;32m      5\u001b[0m \u001b[0mprint\u001b[0m\u001b[0;34m(\u001b[0m\u001b[0;34mf'IDENTIFICAÇÃO: {apresentacao}'\u001b[0m\u001b[0;34m)\u001b[0m\u001b[0;34m\u001b[0m\u001b[0;34m\u001b[0m\u001b[0m\n",
            "\u001b[0;31mTypeError\u001b[0m: can only concatenate str (not \"int\") to str"
          ]
        }
      ],
      "source": [
        "nome = 'JOAO'\n",
        "idade = 22\n",
        "\n",
        "apresentacao = 'PRAZER MEU NOME É' + ' ' + nome + ' ' + 'E TENHO' + ' ' + idade + ' ' + 'ANOS'\n",
        "print(f'IDENTIFICAÇÃO: {apresentacao}')"
      ]
    },
    {
      "cell_type": "markdown",
      "metadata": {
        "id": "PdIsskJNnors"
      },
      "source": [
        "**Exemplo**: Erro de indexação de estrutura de dados"
      ]
    },
    {
      "cell_type": "code",
      "execution_count": 10,
      "metadata": {
        "id": "RhjOE1jCn4ZA",
        "colab": {
          "base_uri": "https://localhost:8080/"
        },
        "outputId": "2150a354-c4a4-4999-dc01-0f9935ca5192"
      },
      "outputs": [
        {
          "output_type": "stream",
          "name": "stdout",
          "text": [
            "NÃO ENCONTRAMOS O CURSO QUE VOCÊ PROCURA.\n"
          ]
        }
      ],
      "source": [
        "cursos = {\n",
        "    'python': {\n",
        "        'nome': 'Python para Análise de Dados', 'duração': 2.5\n",
        "    },\n",
        "    'sql': {\n",
        "        'nome': 'SQL para Análise de Dados', 'duração': 2\n",
        "    }\n",
        "}\n",
        "\n",
        "try:\n",
        "    curso_atual = cursos['Analista']                    # PROCURANDO UMA CHAVE QUE NÃO EXISTE\n",
        "    print(f'CURSO EM ANDAMENTO: {curso_atual}')\n",
        "except Exception:\n",
        "    print(f'NÃO ENCONTRAMOS O CURSO QUE VOCÊ PROCURA.')"
      ]
    },
    {
      "cell_type": "markdown",
      "metadata": {
        "id": "5q6xcwOWURrc"
      },
      "source": [
        "### **2.2. try / except**"
      ]
    },
    {
      "cell_type": "markdown",
      "metadata": {
        "id": "3eu6Eu1Uoh_t"
      },
      "source": [
        "Estrutura para tratar exceções:"
      ]
    },
    {
      "cell_type": "code",
      "execution_count": 11,
      "metadata": {
        "id": "S00K5ucnopBI",
        "colab": {
          "base_uri": "https://localhost:8080/"
        },
        "outputId": "542e4630-06eb-44e5-b4ab-2cfe59959a29"
      },
      "outputs": [
        {
          "output_type": "stream",
          "name": "stdout",
          "text": [
            "NÚMERO DE PESSOAS INVÁLIDO. QUANTIDADE INFORMADA: 0\n"
          ]
        }
      ],
      "source": [
        "preco = 132.85\n",
        "pessoas = 0\n",
        "\n",
        "try:                                                    # POSSIVELMENTE PODE ACONTECER UM ERRO\n",
        "    valor_pessoa = preco / pessoas\n",
        "    print(f'CADA PESSOA DEVERÁ PAGAR: {valor_pessoa}')\n",
        "\n",
        "except ZeroDivisionError:                               # COLOCAMOS O TIPO DE ERRO QUE SE ESPERA ACONTECER\n",
        "    print(f'NÚMERO DE PESSOAS INVÁLIDO. QUANTIDADE INFORMADA: {pessoas}')"
      ]
    },
    {
      "cell_type": "code",
      "execution_count": 12,
      "metadata": {
        "id": "xW1r3TMvpIxE",
        "colab": {
          "base_uri": "https://localhost:8080/"
        },
        "outputId": "f5c971f6-2bc9-4d2c-ff62-a4c8ed0ce02f"
      },
      "outputs": [
        {
          "output_type": "stream",
          "name": "stdout",
          "text": [
            "DESCRIÇÃO DA EXCEÇÃO: list index out of range\n",
            "TIPO DE EXCEÇÃO: <class 'IndexError'>\n"
          ]
        }
      ],
      "source": [
        "anos = [2020, 2021, 2022]\n",
        "\n",
        "try:\n",
        "    ano_atual = anos[3]\n",
        "    print(f'ANO: {ano_atual}')\n",
        "except Exception as exc:\n",
        "    print(f'DESCRIÇÃO DA EXCEÇÃO: {exc}')               # CAPTURANDO O ERRO\n",
        "    print('TIPO DE EXCEÇÃO: ' + str(type(exc)))"
      ]
    },
    {
      "cell_type": "code",
      "execution_count": 13,
      "metadata": {
        "id": "CSxX6o_3pxCV",
        "colab": {
          "base_uri": "https://localhost:8080/"
        },
        "outputId": "4a94f01b-fcd4-4c8a-a6e2-73779fd49c19"
      },
      "outputs": [
        {
          "output_type": "stream",
          "name": "stdout",
          "text": [
            "VALOR NÃO ENCONTRADO.\n"
          ]
        }
      ],
      "source": [
        "anos = [2020, 2021, 2022]\n",
        "\n",
        "try:\n",
        "    ano_atual = anos[3]\n",
        "    print(f'ANO: {ano_atual}')\n",
        "except IndexError:                                      # TRATANDO ERROS ESPECÍFICOS\n",
        "    print(f'VALOR NÃO ENCONTRADO.')\n",
        "except Exception as exc:                                # TRATANDO ERROS GENÉRICOS\n",
        "    print(f'DESCRIÇÃO DA EXCEÇÃO: {exc}')"
      ]
    },
    {
      "cell_type": "markdown",
      "metadata": {
        "id": "WxnG-e3HURrd"
      },
      "source": [
        "### **2.3. try / except / finally**"
      ]
    },
    {
      "cell_type": "code",
      "execution_count": 15,
      "metadata": {
        "id": "i1e_Ag58qZ0n",
        "colab": {
          "base_uri": "https://localhost:8080/"
        },
        "outputId": "4ca9742e-af5b-4967-dc9a-e5f7603fe077"
      },
      "outputs": [
        {
          "output_type": "stream",
          "name": "stdout",
          "text": [
            "INFELIZMENTE NÃO FOI POSSÍVEL CONFIRMAR A SUA IDENTIFICAÇÃO.\n",
            "FIQUE TRANQUILO. NOSSO SISTEMA IDENTIFICOU O ERRO E CORRIGIU-O.\n",
            "IDENTIFICAÇÃO: PRAZER MEU NOME É JOAO, E TENHO 22 ANOS.\n"
          ]
        }
      ],
      "source": [
        "nome = 'JOAO'\n",
        "idade = 22\n",
        "\n",
        "try:\n",
        "    apresentacao = 'PRAZER MEU NOME É' + ' ' + nome + ' ' + 'E TENHO' + ' ' + idade + ' ' + 'ANOS'\n",
        "    print(f'IDENTIFICAÇÃO: {apresentacao}')\n",
        "except TypeError:\n",
        "    idade = str(idade)              # CORRIGINDO A CONCATENAÇÃO DE INT PARA STR\n",
        "finally:\n",
        "    apresentacao = 'PRAZER MEU NOME É' + ' ' + nome + ',' + ' ' + 'E TENHO' + ' ' + idade + ' ' + 'ANOS.'\n",
        "    print(f'INFELIZMENTE NÃO FOI POSSÍVEL CONFIRMAR A SUA IDENTIFICAÇÃO.')\n",
        "    print(f'FIQUE TRANQUILO. NOSSO SISTEMA IDENTIFICOU O ERRO E CORRIGIU-O.')\n",
        "    print(f'IDENTIFICAÇÃO: {apresentacao}')"
      ]
    },
    {
      "cell_type": "markdown",
      "metadata": {
        "id": "_4Ugey3GWq78"
      },
      "source": [
        "## 3\\. Estrutura repetição for / in"
      ]
    },
    {
      "cell_type": "markdown",
      "metadata": {
        "id": "cyA9LdYcBfeF"
      },
      "source": [
        "### **3.1. for / in**"
      ]
    },
    {
      "cell_type": "markdown",
      "metadata": {
        "id": "-F-0zD99Bv97"
      },
      "source": [
        "Estrutura que permite a execução repetida de um bloco de código repetidas vezes."
      ]
    },
    {
      "cell_type": "markdown",
      "metadata": {
        "id": "JyP2wUaUBjrp"
      },
      "source": [
        "```python\n",
        "for variavel_temporaria in coleção:\n",
        "  <execute este código>\n",
        "```"
      ]
    },
    {
      "cell_type": "markdown",
      "metadata": {
        "id": "lk9nsQkTWq7-"
      },
      "source": [
        "### **3.2. for / in / range**"
      ]
    },
    {
      "cell_type": "markdown",
      "metadata": {
        "id": "OHdGHUcN24u3"
      },
      "source": [
        "Estrutura que permite a execução repetida de um bloco de código **n** vezes."
      ]
    },
    {
      "cell_type": "code",
      "execution_count": 16,
      "metadata": {
        "id": "D68uw4X024NQ",
        "colab": {
          "base_uri": "https://localhost:8080/"
        },
        "outputId": "6756efeb-dc9e-4dd5-a9a6-b8ce8e6e1e4e"
      },
      "outputs": [
        {
          "output_type": "stream",
          "name": "stdout",
          "text": [
            "0\n",
            "1\n",
            "2\n",
            "3\n",
            "4\n",
            "5\n"
          ]
        }
      ],
      "source": [
        "for valor in range(6):\n",
        "    print(valor)"
      ]
    },
    {
      "cell_type": "code",
      "execution_count": 17,
      "metadata": {
        "id": "ZhKvc8BR3g0a",
        "colab": {
          "base_uri": "https://localhost:8080/"
        },
        "outputId": "e162d3cd-e37a-42ae-f17a-330ea4dae26b"
      },
      "outputs": [
        {
          "output_type": "stream",
          "name": "stdout",
          "text": [
            "100\n",
            "101\n",
            "103\n",
            "106\n",
            "110\n",
            "115\n"
          ]
        }
      ],
      "source": [
        "# SOMANDO NÚMEROS: 100 + 1 + 2 + 3 + 4 + 5 = 115\n",
        "soma = 100\n",
        "for valor in range(0, 6):\n",
        "    soma = soma + valor\n",
        "    print(soma)"
      ]
    },
    {
      "cell_type": "code",
      "execution_count": 18,
      "metadata": {
        "id": "xvh2Imqy4YyU",
        "colab": {
          "base_uri": "https://localhost:8080/"
        },
        "outputId": "6117f40d-e258-4151-be2b-9baa0441f1d8"
      },
      "outputs": [
        {
          "output_type": "stream",
          "name": "stdout",
          "text": [
            "2\n",
            "4\n",
            "6\n",
            "8\n",
            "10\n"
          ]
        }
      ],
      "source": [
        "# MÚLTIPLOS DE DOIS: 2, 4, 6, 8, 10.\n",
        "for multiplo_dois in range(2, 12, 2):\n",
        "    print(multiplo_dois)"
      ]
    },
    {
      "cell_type": "markdown",
      "metadata": {
        "id": "5nmm_ShgWq7_"
      },
      "source": [
        "### **3.3. for / in / list**"
      ]
    },
    {
      "cell_type": "markdown",
      "metadata": {
        "id": "LB7Ghhx94ljq"
      },
      "source": [
        "Estrutura que permite a execução de um bloco de código para todos os elementos de uma lista."
      ]
    },
    {
      "cell_type": "code",
      "execution_count": 19,
      "metadata": {
        "id": "z12p8IT-4s4U",
        "colab": {
          "base_uri": "https://localhost:8080/"
        },
        "outputId": "49277be3-79e3-4e4d-d8ed-7ce8336b7511"
      },
      "outputs": [
        {
          "output_type": "stream",
          "name": "stdout",
          "text": [
            "banana\n",
            "laranja\n",
            "abacate\n",
            "maracujá\n"
          ]
        }
      ],
      "source": [
        "frutas = ['banana', 'laranja', 'abacate', 'maracujá']\n",
        "for fruta in frutas:\n",
        "    print(fruta)"
      ]
    },
    {
      "cell_type": "code",
      "execution_count": 23,
      "metadata": {
        "id": "3zkZ-gPU8diZ",
        "colab": {
          "base_uri": "https://localhost:8080/"
        },
        "outputId": "7403f683-3873-4d2c-bc3c-82cff91508e7"
      },
      "outputs": [
        {
          "output_type": "stream",
          "name": "stdout",
          "text": [
            "A letra \"A\" está presente na frase.\n",
            "A letra \"P\" está presente na frase.\n"
          ]
        }
      ],
      "source": [
        "frase = 'JOAO PEDRO'\n",
        "for caracteres in frase:\n",
        "    if (caracteres == 'P') | (caracteres == \"A\"):\n",
        "        print(f'A letra \"{caracteres}\" está presente na frase.')"
      ]
    },
    {
      "cell_type": "markdown",
      "metadata": {
        "id": "GsUpIpUoXmhc"
      },
      "source": [
        "### **3.4. for / in / dict**"
      ]
    },
    {
      "cell_type": "markdown",
      "metadata": {
        "id": "xx38Jwu_7OJS"
      },
      "source": [
        "Estrutura que permite a execução de um bloco de código para todos os elementos de um dicionário."
      ]
    },
    {
      "cell_type": "code",
      "execution_count": 24,
      "metadata": {
        "id": "Zo-LDBca7ULR"
      },
      "outputs": [],
      "source": [
        "credito = {'001': 660, '002': 890, '003': 998}"
      ]
    },
    {
      "cell_type": "code",
      "execution_count": 25,
      "metadata": {
        "id": "-MI9OP197jUU",
        "colab": {
          "base_uri": "https://localhost:8080/"
        },
        "outputId": "12655ec1-479e-4b67-c607-ad4e44f09af0"
      },
      "outputs": [
        {
          "output_type": "stream",
          "name": "stdout",
          "text": [
            "Para o documento 001, o valor do SCORE de crédito é 660.\n",
            "Para o documento 002, o valor do SCORE de crédito é 890.\n",
            "Para o documento 003, o valor do SCORE de crédito é 998.\n"
          ]
        }
      ],
      "source": [
        "for chave, valor in credito.items():\n",
        "    print(f'Para o documento {chave}, o valor do SCORE de crédito é {valor}.')\n",
        "    #print('\\n') ESSE COMANDO FAZ O PYTHON PULAR UMA LINHA"
      ]
    },
    {
      "cell_type": "code",
      "execution_count": 26,
      "metadata": {
        "id": "juFICibw76Ay",
        "colab": {
          "base_uri": "https://localhost:8080/"
        },
        "outputId": "1baad748-885c-4895-cb24-bd5f953314dc"
      },
      "outputs": [
        {
          "output_type": "stream",
          "name": "stdout",
          "text": [
            "001\n",
            "660\n",
            "Para o documento 001, o valor do escore de crédito é 660.\n",
            "\n",
            "\n",
            "002\n",
            "890\n",
            "Para o documento 002, o valor do escore de crédito é 890.\n",
            "\n",
            "\n",
            "003\n",
            "998\n",
            "Para o documento 003, o valor do escore de crédito é 998.\n",
            "\n",
            "\n"
          ]
        }
      ],
      "source": [
        "for chave in credito.keys():\n",
        "  print(chave)\n",
        "  print(credito[chave])\n",
        "  print(f'Para o documento {chave}, o valor do escore de crédito é {credito[chave]}.')\n",
        "  print('\\n')"
      ]
    },
    {
      "cell_type": "code",
      "execution_count": 27,
      "metadata": {
        "id": "kocTkvpH8LsV",
        "colab": {
          "base_uri": "https://localhost:8080/"
        },
        "outputId": "92f19390-b141-43a3-a57d-50526ba5d1c7"
      },
      "outputs": [
        {
          "output_type": "stream",
          "name": "stdout",
          "text": [
            "660\n",
            "O valor do escore de crédito é 660, mas não temos mais as chaves :(.\n",
            "\n",
            "\n",
            "890\n",
            "O valor do escore de crédito é 890, mas não temos mais as chaves :(.\n",
            "\n",
            "\n",
            "998\n",
            "O valor do escore de crédito é 998, mas não temos mais as chaves :(.\n",
            "\n",
            "\n"
          ]
        }
      ],
      "source": [
        "for valor in credito.values():\n",
        "  print(valor)\n",
        "  print(f'O valor do escore de crédito é {valor}, mas não temos mais as chaves :(.')\n",
        "  print('\\n')"
      ]
    },
    {
      "cell_type": "markdown",
      "metadata": {
        "id": "NOh6bacJWq8A"
      },
      "source": [
        "### **3.5. break / continue**"
      ]
    },
    {
      "cell_type": "markdown",
      "metadata": {
        "id": "NzAhsgdE9Jw9"
      },
      "source": [
        "Estrutura que permite a quebra ou o avanço de um laço de repetição."
      ]
    },
    {
      "cell_type": "code",
      "execution_count": 28,
      "metadata": {
        "id": "6G_zUh2t9TGk",
        "colab": {
          "base_uri": "https://localhost:8080/"
        },
        "outputId": "4358319f-cb65-4bea-ad7e-82eb24ca9fb6"
      },
      "outputs": [
        {
          "output_type": "stream",
          "name": "stdout",
          "text": [
            "0\n",
            "1\n",
            "2\n",
            "3\n",
            "4\n",
            "5\n",
            "6\n",
            "7\n",
            "8\n",
            "9\n",
            "10\n"
          ]
        }
      ],
      "source": [
        "for i in range(0, 10*10*10*10*10*10):\n",
        "  print(i)\n",
        "  if i == 10:\n",
        "    break"
      ]
    },
    {
      "cell_type": "code",
      "execution_count": 29,
      "metadata": {
        "id": "tTDBNrwU9pie",
        "colab": {
          "base_uri": "https://localhost:8080/"
        },
        "outputId": "b654dbd1-3e70-417d-a595-d0fee3fe07d8"
      },
      "outputs": [
        {
          "output_type": "stream",
          "name": "stdout",
          "text": [
            "O numero 3 é impar\n"
          ]
        }
      ],
      "source": [
        "numero = 3\n",
        "\n",
        "if numero % 2 == 0:\n",
        "  print(f'O numero {numero} é par')\n",
        "else:\n",
        "  print(f'O numero {numero} é impar')"
      ]
    },
    {
      "cell_type": "code",
      "execution_count": 30,
      "metadata": {
        "id": "Wd7P73u69_62",
        "colab": {
          "base_uri": "https://localhost:8080/"
        },
        "outputId": "406582f6-5f12-421c-eee2-c7150f75434f"
      },
      "outputs": [
        {
          "output_type": "stream",
          "name": "stdout",
          "text": [
            "O número 361 é ímpar.\n",
            "O número 553 é ímpar.\n",
            "O número 717 é ímpar.\n",
            "O número 194 é par.\n"
          ]
        }
      ],
      "source": [
        "numeros = [361, 553, 717, 194, 135, 220]\n",
        "for numero in numeros:\n",
        "    if numero % 2 == 0: # TODOS NÚMEROS EM QUE O RESTO DA DIVISÃO POR 2 É IGUAL A 0 -> NÚMERO PAR\n",
        "        print(f'O número {numero} é par.')\n",
        "        break # QUANDO ENCONTRAR O PRIMEIRO NÚMERO PAR, O BREAK QUEBRA O LAÇO DE REPETIÇÃO\n",
        "    else:\n",
        "        print(f'O número {numero} é ímpar.')"
      ]
    },
    {
      "cell_type": "code",
      "execution_count": 31,
      "metadata": {
        "id": "O8y3bath-oEl",
        "colab": {
          "base_uri": "https://localhost:8080/"
        },
        "outputId": "e009460e-a47f-4a51-f1a2-a4b8e70e59a9"
      },
      "outputs": [
        {
          "output_type": "stream",
          "name": "stdout",
          "text": [
            "O número 194 é par.\n"
          ]
        }
      ],
      "source": [
        "numeros = [361, 553, 717, 194, 135, 220]\n",
        "for numero in numeros:\n",
        "    if numero % 2 == 0:\n",
        "        print(f'O número {numero} é par.')\n",
        "        break\n",
        "    else:\n",
        "        continue    # AVANÇA A EXECUÇÃO PARA O PRÓXIMO ITEM DA NOSSA SEQUÊNCIA\n",
        "        print(f'O número {numero} é ímpar.')"
      ]
    }
  ],
  "metadata": {
    "colab": {
      "provenance": [],
      "toc_visible": true
    },
    "kernelspec": {
      "display_name": "Python 3",
      "name": "python3"
    }
  },
  "nbformat": 4,
  "nbformat_minor": 0
}