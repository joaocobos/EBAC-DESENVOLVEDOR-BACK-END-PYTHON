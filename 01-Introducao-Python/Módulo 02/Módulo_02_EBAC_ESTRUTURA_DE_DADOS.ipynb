{
  "cells": [
    {
      "cell_type": "markdown",
      "metadata": {
        "id": "KJqp9AANOCtf"
      },
      "source": [
        "<img src=\"https://raw.githubusercontent.com/andre-marcos-perez/ebac-course-utils/main/media/logo/newebac_logo_black_half.png\" alt=\"ebac-logo\">\n",
        "\n",
        "---\n",
        "\n",
        "# **Módulo 02** | Python: Estruturas de Dados\n",
        "Caderno de **Aula**<br>\n",
        "Professor [André Perez](https://www.linkedin.com/in/andremarcosperez/)\n",
        "\n",
        "---"
      ]
    },
    {
      "cell_type": "markdown",
      "metadata": {
        "id": "d9jDtUbDOE1-"
      },
      "source": [
        "# **Tópicos**\n",
        "\n",
        "<ol type=\"1\">\n",
        "  <li>Listas;</li>\n",
        "  <li>Conjuntos;</li>\n",
        "  <li>Dicionários.</li>\n",
        "</ol>"
      ]
    },
    {
      "cell_type": "markdown",
      "metadata": {
        "id": "SmoHgt-lwkpD"
      },
      "source": [
        "---"
      ]
    },
    {
      "cell_type": "markdown",
      "metadata": {
        "id": "GABI6OW8OfQ2"
      },
      "source": [
        "# **Aulas**"
      ]
    },
    {
      "cell_type": "markdown",
      "metadata": {
        "id": "muD1vxozykSC"
      },
      "source": [
        "## 1\\. Listas"
      ]
    },
    {
      "cell_type": "markdown",
      "metadata": {
        "id": "5a3_syBIP6yO"
      },
      "source": [
        "### **1.1. Motivação**"
      ]
    },
    {
      "cell_type": "markdown",
      "metadata": {
        "id": "BmXmjEay_JOP"
      },
      "source": [
        "O aplicativo do seu banco registra toda a sua movimentação financeira. O final do dia, o app consolida o saldo final para que você possa controlar sua vida financeira."
      ]
    },
    {
      "cell_type": "code",
      "execution_count": 1,
      "metadata": {
        "id": "9N1LJEm7AlyF"
      },
      "outputs": [],
      "source": [
        "dia_11_saldo_inicial = 1000"
      ]
    },
    {
      "cell_type": "code",
      "execution_count": 2,
      "metadata": {
        "id": "K_kN8YZm_5gv"
      },
      "outputs": [],
      "source": [
        "dia_11_transacao_1 = 243\n",
        "dia_11_transacao_2 = -798.58\n",
        "dia_11_transacao_3 = 427.12\n",
        "dia_11_transacao_4 = -10.91"
      ]
    },
    {
      "cell_type": "code",
      "execution_count": 3,
      "metadata": {
        "id": "oPuPUmzfAojH"
      },
      "outputs": [],
      "source": [
        "dia_11_saldo_final = dia_11_saldo_inicial + dia_11_transacao_1 + dia_11_transacao_2 + dia_11_transacao_3 + dia_11_transacao_4"
      ]
    },
    {
      "cell_type": "code",
      "execution_count": 4,
      "metadata": {
        "colab": {
          "base_uri": "https://localhost:8080/"
        },
        "id": "vIGCRWomqbsl",
        "outputId": "2f57082b-dc6c-484f-fe70-ac1165ca0764"
      },
      "outputs": [
        {
          "output_type": "stream",
          "name": "stdout",
          "text": [
            "860.63\n"
          ]
        }
      ],
      "source": [
        "print(dia_11_saldo_final)"
      ]
    },
    {
      "cell_type": "markdown",
      "metadata": {
        "id": "TfDH4namA43t"
      },
      "source": [
        "Será que exista uma forma melhor de armazenar as transações diárias?"
      ]
    },
    {
      "cell_type": "markdown",
      "metadata": {
        "id": "E6D5rjlESJ1A"
      },
      "source": [
        "### **1.2. Definição**"
      ]
    },
    {
      "cell_type": "markdown",
      "metadata": {
        "id": "ajMuhMQx3bfB"
      },
      "source": [
        "Armazenam sequências mutáveis e ordenadas de valores. São do tipo `list`:\n"
      ]
    },
    {
      "cell_type": "code",
      "execution_count": 5,
      "metadata": {
        "colab": {
          "base_uri": "https://localhost:8080/"
        },
        "id": "mtCBXOvB3bfd",
        "outputId": "145c33a0-6e20-49c9-de23-9feb92fccb61"
      },
      "outputs": [
        {
          "output_type": "stream",
          "name": "stdout",
          "text": [
            "['João Pedro', 'phishing', 'coreldraw123', 'joaocobos@hotmail.com']\n",
            "<class 'list'>\n"
          ]
        }
      ],
      "source": [
        "usuario_web = ['João Pedro', 'phishing', 'coreldraw123', 'joaocobos@hotmail.com']\n",
        "\n",
        "print(usuario_web)\n",
        "print(type(usuario_web))"
      ]
    },
    {
      "cell_type": "code",
      "execution_count": 6,
      "metadata": {
        "colab": {
          "base_uri": "https://localhost:8080/"
        },
        "id": "IDyGAYp13bfe",
        "outputId": "13288f63-f184-4630-ced1-232d7b26edc0"
      },
      "outputs": [
        {
          "output_type": "stream",
          "name": "stdout",
          "text": [
            "['João Pedro', 22, 'phishing', 'coreldraw123', 'joaocobos@hotmail.com', 723.15, True]\n",
            "<class 'list'>\n"
          ]
        }
      ],
      "source": [
        "idade = 22\n",
        "saldo_em_conta = 723.15\n",
        "usuario_loggedin = True\n",
        "\n",
        "usuario_web = ['João Pedro', idade, 'phishing', 'coreldraw123', 'joaocobos@hotmail.com', saldo_em_conta, usuario_loggedin]\n",
        "\n",
        "print(usuario_web)\n",
        "print(type(usuario_web))"
      ]
    },
    {
      "cell_type": "markdown",
      "metadata": {
        "id": "wNkFG1qKSU9M"
      },
      "source": [
        "### **1.3. Operações**"
      ]
    },
    {
      "cell_type": "markdown",
      "metadata": {
        "id": "okUlGror3kEO"
      },
      "source": [
        "As operações da estrutura do tipo *list* são:\n",
        "\n",
        "\n",
        "*   `+` (concatenação)."
      ]
    },
    {
      "cell_type": "markdown",
      "metadata": {
        "id": "gI0uX4ba3xRt"
      },
      "source": [
        "**Exemplo**: Fabricantes de *hardware* mobile"
      ]
    },
    {
      "cell_type": "code",
      "execution_count": 7,
      "metadata": {
        "colab": {
          "base_uri": "https://localhost:8080/"
        },
        "id": "_yq5ifl536nt",
        "outputId": "380c3efb-c183-4d01-9c90-7b4671db82cc"
      },
      "outputs": [
        {
          "output_type": "stream",
          "name": "stdout",
          "text": [
            "['xiaomi', 'huawei']\n",
            "['apple', 'motorola']\n",
            "['xiaomi', 'huawei', 'apple', 'motorola']\n"
          ]
        }
      ],
      "source": [
        "fabricantes_mobile_china = ['xiaomi', 'huawei']\n",
        "fabricantes_mobile_eua = ['apple', 'motorola']\n",
        "fabricantes_mobile = fabricantes_mobile_china + fabricantes_mobile_eua\n",
        "\n",
        "print(fabricantes_mobile_china)\n",
        "print(fabricantes_mobile_eua)\n",
        "print(fabricantes_mobile)"
      ]
    },
    {
      "cell_type": "markdown",
      "metadata": {
        "id": "ND9FzyEn5kFs"
      },
      "source": [
        "Outra operação muito utilizada é a de fatiamento (*slicing*), semelhante ao de *strings*:"
      ]
    },
    {
      "cell_type": "markdown",
      "metadata": {
        "id": "Y8b_DalN5x3D"
      },
      "source": [
        "Fatiamento fixo:"
      ]
    },
    {
      "cell_type": "code",
      "execution_count": 8,
      "metadata": {
        "colab": {
          "base_uri": "https://localhost:8080/"
        },
        "id": "sDxRHUKp5wFw",
        "outputId": "090ffabf-7b42-4038-8007-fb1423a6b8c0"
      },
      "outputs": [
        {
          "output_type": "stream",
          "name": "stdout",
          "text": [
            "0: xiaomi\n",
            "-1: motorola\n"
          ]
        }
      ],
      "source": [
        "print(f'0: {fabricantes_mobile[0]}')\n",
        "print(f'-1: {fabricantes_mobile[-1]}')"
      ]
    },
    {
      "cell_type": "markdown",
      "metadata": {
        "id": "-xHG7dS16Qb4"
      },
      "source": [
        "Fatiamento por intervalo:"
      ]
    },
    {
      "cell_type": "code",
      "execution_count": 9,
      "metadata": {
        "colab": {
          "base_uri": "https://localhost:8080/"
        },
        "id": "09r1FMtN6USi",
        "outputId": "0cb480ea-66c2-4453-b4fd-f63f23a30f4e"
      },
      "outputs": [
        {
          "output_type": "stream",
          "name": "stdout",
          "text": [
            "HARDWARE CHINA: ['xiaomi', 'huawei']\n",
            "HARDWARE NORTE-AMERICANA: ['apple', 'motorola']\n"
          ]
        }
      ],
      "source": [
        "fabricantes_mobile_china = fabricantes_mobile[0:2]\n",
        "fabricantes_mobile_eua = fabricantes_mobile[2:len(fabricantes_mobile)]\n",
        "\n",
        "print(f'HARDWARE CHINA: ' + str(fabricantes_mobile_china))\n",
        "print(f'HARDWARE NORTE-AMERICANA: ' + str(fabricantes_mobile_eua))"
      ]
    },
    {
      "cell_type": "markdown",
      "metadata": {
        "id": "WH9TnU_z7hUt"
      },
      "source": [
        "Podemos adicionar elementos a uma posição específica da lista:"
      ]
    },
    {
      "cell_type": "code",
      "execution_count": 10,
      "metadata": {
        "colab": {
          "base_uri": "https://localhost:8080/"
        },
        "id": "DKYvexvX7p1_",
        "outputId": "7dedac59-89c6-4528-e34c-db6c71724759"
      },
      "outputs": [
        {
          "output_type": "stream",
          "name": "stdout",
          "text": [
            "['xiaomi', 'huawei', 'apple', 'motorola']\n"
          ]
        }
      ],
      "source": [
        "print(fabricantes_mobile)"
      ]
    },
    {
      "cell_type": "code",
      "execution_count": 11,
      "metadata": {
        "colab": {
          "base_uri": "https://localhost:8080/"
        },
        "id": "eGYIk-vX8DQs",
        "outputId": "aae6357c-028e-4121-dbd2-83537a602476"
      },
      "outputs": [
        {
          "output_type": "stream",
          "name": "stdout",
          "text": [
            "['xiaomi', 'huawei', 'nokia', 'motorola']\n"
          ]
        }
      ],
      "source": [
        "fabricantes_mobile[2] = 'nokia' # SUBSTITUI APPLE[2] PARA \"NOKIA\"\n",
        "print(fabricantes_mobile)"
      ]
    },
    {
      "cell_type": "markdown",
      "metadata": {
        "id": "8rRaHG5K6-h3"
      },
      "source": [
        "### **1.4. Métodos**"
      ]
    },
    {
      "cell_type": "markdown",
      "metadata": {
        "id": "LoHEI8EP7KSb"
      },
      "source": [
        "São métodos nativos do Python que nos ajudam a trabalhar no dia a dia com listas."
      ]
    },
    {
      "cell_type": "code",
      "execution_count": 12,
      "metadata": {
        "colab": {
          "base_uri": "https://localhost:8080/"
        },
        "id": "O4Ke0FcG7Opv",
        "outputId": "d093597e-15dc-4f0b-e609-525ac7a6199e"
      },
      "outputs": [
        {
          "output_type": "stream",
          "name": "stdout",
          "text": [
            "[0.05, 0.07, 0.02, 0.04, 0.08]\n"
          ]
        }
      ],
      "source": [
        "juros = [0.05, 0.07, 0.02, 0.04, 0.08]\n",
        "print(juros)"
      ]
    },
    {
      "cell_type": "code",
      "execution_count": 13,
      "metadata": {
        "colab": {
          "base_uri": "https://localhost:8080/"
        },
        "id": "1PIOTSXT8uT7",
        "outputId": "569517dd-3c95-4712-bfe8-3c3fc70a8c3b"
      },
      "outputs": [
        {
          "output_type": "stream",
          "name": "stdout",
          "text": [
            "[0.1, 0.05, 0.07, 0.02, 0.04, 0.08]\n"
          ]
        }
      ],
      "source": [
        "# INSERIR UM ELEMENTO SEM SUBSTITUIR: list.insert(index, val)\n",
        "juros.insert(0, 0.10)\n",
        "print(juros)"
      ]
    },
    {
      "cell_type": "code",
      "execution_count": 14,
      "metadata": {
        "colab": {
          "base_uri": "https://localhost:8080/"
        },
        "id": "-MMjKRzf9Ixy",
        "outputId": "881aa966-34d6-4177-ac27-c793574a9b47"
      },
      "outputs": [
        {
          "output_type": "stream",
          "name": "stdout",
          "text": [
            "[0.1, 0.05, 0.07, 0.02, 0.04, 0.08, 0.09]\n"
          ]
        }
      ],
      "source": [
        "# INSERIR UM ELEMENTO NO FIM DA LISTA: list.append(val)\n",
        "juros.append(0.09)\n",
        "print(juros)"
      ]
    },
    {
      "cell_type": "code",
      "execution_count": 15,
      "metadata": {
        "colab": {
          "base_uri": "https://localhost:8080/"
        },
        "id": "PAfBwmkb9lF3",
        "outputId": "f3b2fa12-4a31-4c4b-8561-e5155f40b478"
      },
      "outputs": [
        {
          "output_type": "stream",
          "name": "stdout",
          "text": [
            "[0.1, 0.05, 0.07, 0.02, 0.04, 0.08]\n"
          ]
        }
      ],
      "source": [
        "# REMOVER UM ELEMENTO PELO VALOR: list.remove(val)\n",
        "juros.remove(0.09)\n",
        "print(juros)"
      ]
    },
    {
      "cell_type": "code",
      "execution_count": 16,
      "metadata": {
        "colab": {
          "base_uri": "https://localhost:8080/"
        },
        "id": "E2rAo_0N9yp_",
        "outputId": "729713eb-a420-427b-b2e7-a34852835660"
      },
      "outputs": [
        {
          "output_type": "stream",
          "name": "stdout",
          "text": [
            "0.04\n"
          ]
        }
      ],
      "source": [
        "# REMOVER UM ELEMENTO PELO ÍNDICE: list.pop(val)\n",
        "remove_juros = juros.pop(4)\n",
        "print(remove_juros)"
      ]
    },
    {
      "cell_type": "code",
      "execution_count": 17,
      "metadata": {
        "colab": {
          "base_uri": "https://localhost:8080/"
        },
        "id": "cTZ-PpZjwrXh",
        "outputId": "eb8da07a-69b8-44f2-b10d-1d7e35af7b90"
      },
      "outputs": [
        {
          "output_type": "stream",
          "name": "stdout",
          "text": [
            "[0.1, 0.05, 0.07, 0.02, 0.08]\n"
          ]
        }
      ],
      "source": [
        "print(juros)"
      ]
    },
    {
      "cell_type": "markdown",
      "metadata": {
        "id": "NaXePKHx-J0H"
      },
      "source": [
        "### **1.5. Conversão**"
      ]
    },
    {
      "cell_type": "markdown",
      "metadata": {
        "id": "nxiiMN---dLL"
      },
      "source": [
        "Podemos converter alguns tipos de variáveis em listas, como *strings*."
      ]
    },
    {
      "cell_type": "code",
      "execution_count": 18,
      "metadata": {
        "colab": {
          "base_uri": "https://localhost:8080/"
        },
        "id": "DgZyBHJn-TWi",
        "outputId": "5247e608-06b0-4a4a-eef2-98e5ed477799"
      },
      "outputs": [
        {
          "output_type": "stream",
          "name": "stdout",
          "text": [
            "joaocobos@hotmail.com\n",
            "['j', 'o', 'a', 'o', 'c', 'o', 'b', 'o', 's', '@', 'h', 'o', 't', 'm', 'a', 'i', 'l', '.', 'c', 'o', 'm']\n"
          ]
        }
      ],
      "source": [
        "email = 'joaocobos@hotmail.com'\n",
        "convert_email = list(email)\n",
        "\n",
        "print(email)\n",
        "print(convert_email)"
      ]
    },
    {
      "cell_type": "markdown",
      "metadata": {
        "id": "hV8sOC7uSQsy"
      },
      "source": [
        "### **1.6. Revisitando a motivação**"
      ]
    },
    {
      "cell_type": "code",
      "execution_count": 19,
      "metadata": {
        "id": "oov-ZttEBTJi"
      },
      "outputs": [],
      "source": [
        "dia_11_saldo_inicial = 1000"
      ]
    },
    {
      "cell_type": "code",
      "execution_count": 20,
      "metadata": {
        "colab": {
          "base_uri": "https://localhost:8080/"
        },
        "id": "QBK9CvnkBWAh",
        "outputId": "391c5187-1ccf-41db-a1d7-310bcb4a576b"
      },
      "outputs": [
        {
          "output_type": "stream",
          "name": "stdout",
          "text": [
            "[243, -798.58, 427.12, -10.91]\n"
          ]
        }
      ],
      "source": [
        "dia_11_transacoes = []\n",
        "\n",
        "dia_11_transacoes.append(243)\n",
        "dia_11_transacoes.append(-798.58)\n",
        "dia_11_transacoes.append(427.12)\n",
        "dia_11_transacoes.append(-10.91)\n",
        "\n",
        "print(dia_11_transacoes)"
      ]
    },
    {
      "cell_type": "code",
      "execution_count": 21,
      "metadata": {
        "colab": {
          "base_uri": "https://localhost:8080/"
        },
        "id": "3WIhTJkvBnn_",
        "outputId": "6e534d71-c43d-4319-9c6c-f44e0f7c68f8"
      },
      "outputs": [
        {
          "output_type": "stream",
          "name": "stdout",
          "text": [
            "860.63\n"
          ]
        }
      ],
      "source": [
        "dia_11_saldo_final = dia_11_saldo_inicial + dia_11_transacoes[0] + dia_11_transacoes[1] + dia_11_transacoes[2] + dia_11_transacoes[3]\n",
        "print(dia_11_saldo_final)"
      ]
    },
    {
      "cell_type": "markdown",
      "metadata": {
        "id": "4rRCvy_UURrM"
      },
      "source": [
        "## 2\\. Conjuntos"
      ]
    },
    {
      "cell_type": "markdown",
      "metadata": {
        "id": "Y1W9Hv8fURrZ"
      },
      "source": [
        "### **2.1. Motivação**"
      ]
    },
    {
      "cell_type": "markdown",
      "metadata": {
        "id": "yui33vLXavm9"
      },
      "source": [
        "Você trabalha como analista de dados de mídias sociais e precisa descobrir todas as *hashtags* que alcançaram o *top trending* do Twitter durante uma semana. Você já conseguiu as *hashtags* por dia da semana:"
      ]
    },
    {
      "cell_type": "code",
      "execution_count": 22,
      "metadata": {
        "id": "EK9_cpdLbgUR"
      },
      "outputs": [],
      "source": [
        "hashtags_seg = ['#belatriz', '#caroline', '#bbb']\n",
        "hashtags_ter = ['#tamires', '#vitoria', '#jeniffer']\n",
        "hashtags_qua = ['#grazielly', '#gabrielly', '#bbb']\n",
        "hashtags_qui = ['#rafaela', '#fernanda', '#patricia']\n",
        "hashtags_sex = ['#juliana', '#bbb', '#leticia']"
      ]
    },
    {
      "cell_type": "markdown",
      "metadata": {
        "id": "poe2mVAlcIeB"
      },
      "source": [
        "Um simples concateção de listas fará com que a *hashtag* #bbb, entre outras, apareça mais de uma vez."
      ]
    },
    {
      "cell_type": "code",
      "execution_count": 23,
      "metadata": {
        "colab": {
          "base_uri": "https://localhost:8080/"
        },
        "id": "fGIykxP8cTZ5",
        "outputId": "8d5cdc57-2b7b-4b06-c63a-e31bd4c5f3fd"
      },
      "outputs": [
        {
          "output_type": "stream",
          "name": "stdout",
          "text": [
            "['#belatriz', '#caroline', '#bbb', '#tamires', '#vitoria', '#jeniffer', '#grazielly', '#gabrielly', '#bbb', '#rafaela', '#fernanda', '#patricia', '#juliana', '#bbb', '#leticia']\n"
          ]
        }
      ],
      "source": [
        "hashtags_semana = (hashtags_seg + hashtags_ter + hashtags_qua + hashtags_qui + hashtags_sex)\n",
        "print(hashtags_semana)"
      ]
    },
    {
      "cell_type": "code",
      "execution_count": 24,
      "metadata": {
        "colab": {
          "base_uri": "https://localhost:8080/"
        },
        "id": "iTcis1hYwpj6",
        "outputId": "f6dbe16d-49eb-4477-ccef-918f6271716f"
      },
      "outputs": [
        {
          "output_type": "stream",
          "name": "stdout",
          "text": [
            "['#fernanda', '#belatriz', '#rafaela', '#juliana', '#leticia', '#gabrielly', '#bbb', '#vitoria', '#patricia', '#caroline', '#tamires', '#jeniffer', '#grazielly']\n"
          ]
        }
      ],
      "source": [
        "# POSSO DEFINIR O LIST ANTES DO SET, EVITANDO ITENS DUPLICADOS DENTRO DA LISTA: list(set(variavel))\n",
        "\n",
        "hashtags_semana = list(set(hashtags_seg + hashtags_ter + hashtags_qua + hashtags_qui + hashtags_sex))\n",
        "print(hashtags_semana)"
      ]
    },
    {
      "cell_type": "markdown",
      "metadata": {
        "id": "cOZDKbe6URrb"
      },
      "source": [
        "### **2.2. Definição**"
      ]
    },
    {
      "cell_type": "markdown",
      "metadata": {
        "id": "B9Bux1n0C2Hd"
      },
      "source": [
        "Armazenam sequências imutáveis e desordenadas valores, sem repetição. São do tipo `set`:"
      ]
    },
    {
      "cell_type": "code",
      "execution_count": 25,
      "metadata": {
        "colab": {
          "base_uri": "https://localhost:8080/"
        },
        "id": "_QL3pDMAE5oV",
        "outputId": "b75ab478-4b68-4d39-e25e-2df32d34835c"
      },
      "outputs": [
        {
          "output_type": "stream",
          "name": "stdout",
          "text": [
            "{'abacate', 'banana', 'uva'}\n",
            "<class 'set'>\n"
          ]
        }
      ],
      "source": [
        "frutas = {'banana', 'abacate', 'uva', 'uva'}\n",
        "print(frutas)\n",
        "print(type(frutas))"
      ]
    },
    {
      "cell_type": "markdown",
      "metadata": {
        "id": "5q6xcwOWURrc"
      },
      "source": [
        "### **2.3. Operações**"
      ]
    },
    {
      "cell_type": "markdown",
      "metadata": {
        "id": "VjckMGhefqbI"
      },
      "source": [
        "As operações da estrutura do tipo *set* são:\n",
        "\n",
        "\n",
        "*   `-` (diferença)."
      ]
    },
    {
      "cell_type": "markdown",
      "metadata": {
        "id": "8t5unixyf2PQ"
      },
      "source": [
        "**Exemplo**: Países da europa."
      ]
    },
    {
      "cell_type": "code",
      "execution_count": 29,
      "metadata": {
        "id": "sDM_I9xff1as"
      },
      "outputs": [],
      "source": [
        "norte_europa = {'reino unido', 'suecia', 'russia', 'noruega', 'dinamarca'}\n",
        "escandinavia = {'noruega', 'dinamarca', 'suecia'}"
      ]
    },
    {
      "cell_type": "code",
      "execution_count": 30,
      "metadata": {
        "colab": {
          "base_uri": "https://localhost:8080/"
        },
        "id": "nibhXuPHgD4I",
        "outputId": "9eb0da14-faf6-41fe-879c-86727d8cf665"
      },
      "outputs": [
        {
          "output_type": "stream",
          "name": "stdout",
          "text": [
            "{'reino unido', 'russia'}\n"
          ]
        }
      ],
      "source": [
        "norte_europa_nao_escandivano = norte_europa - escandinavia\n",
        "print(norte_europa_nao_escandivano)"
      ]
    },
    {
      "cell_type": "code",
      "execution_count": 31,
      "metadata": {
        "colab": {
          "base_uri": "https://localhost:8080/"
        },
        "id": "UjsDawmDgoVD",
        "outputId": "53c88b96-3afc-4fce-c885-a0c45dd93d47"
      },
      "outputs": [
        {
          "output_type": "stream",
          "name": "stdout",
          "text": [
            "set()\n"
          ]
        }
      ],
      "source": [
        "escandivano_nao_norte_europa = escandinavia - norte_europa\n",
        "print(escandivano_nao_norte_europa)"
      ]
    },
    {
      "cell_type": "markdown",
      "metadata": {
        "id": "DK2jQGirhGWS"
      },
      "source": [
        "### **2.4. Métodos**"
      ]
    },
    {
      "cell_type": "markdown",
      "metadata": {
        "id": "A6cE9_1GhGWd"
      },
      "source": [
        "São métodos nativos do Python que nos ajudam a trabalhar no dia a dia com conjuntos."
      ]
    },
    {
      "cell_type": "code",
      "execution_count": 32,
      "metadata": {
        "colab": {
          "base_uri": "https://localhost:8080/"
        },
        "id": "IW0jfAUmhGWd",
        "outputId": "e624ba8a-7fd2-41d4-e45c-2011ccdb5711"
      },
      "outputs": [
        {
          "output_type": "stream",
          "name": "stdout",
          "text": [
            "{'Biológicas', 'Exatas', 'Humanas'}\n"
          ]
        }
      ],
      "source": [
        "cursos = {'Exatas', 'Humanas', 'Biológicas'}\n",
        "print(cursos)"
      ]
    },
    {
      "cell_type": "code",
      "execution_count": 33,
      "metadata": {
        "colab": {
          "base_uri": "https://localhost:8080/"
        },
        "id": "hJDBambLhGWe",
        "outputId": "a3ee7299-f77e-42ff-8b8c-8de85ec67799"
      },
      "outputs": [
        {
          "output_type": "stream",
          "name": "stdout",
          "text": [
            "{'Biológicas', 'Exatas', 'Saúde', 'Humanas'}\n"
          ]
        }
      ],
      "source": [
        "# INSERIR UM ELEMENTO NO CONJUNTO: set.add(val)\n",
        "cursos.add('Saúde')\n",
        "print(cursos)"
      ]
    },
    {
      "cell_type": "code",
      "execution_count": 34,
      "metadata": {
        "colab": {
          "base_uri": "https://localhost:8080/"
        },
        "id": "2PW8RfTyhGWe",
        "outputId": "fcfdb6e4-e59a-46dc-b8a9-915a635482d9"
      },
      "outputs": [
        {
          "output_type": "stream",
          "name": "stdout",
          "text": [
            "{'Biológicas', 'Exatas', 'Humanas'}\n"
          ]
        }
      ],
      "source": [
        "# REMOVER UM ELEMENTO NO CONJUNTO: set.remove(val)\n",
        "cursos.remove('Saúde')\n",
        "print(cursos)"
      ]
    },
    {
      "cell_type": "markdown",
      "metadata": {
        "id": "lR8W6YlthGWe"
      },
      "source": [
        "### **2.5. Conversão**"
      ]
    },
    {
      "cell_type": "markdown",
      "metadata": {
        "id": "FcIR2JcbhGWe"
      },
      "source": [
        "Podemos converter conjuntos para lista e vice e versa."
      ]
    },
    {
      "cell_type": "code",
      "execution_count": 35,
      "metadata": {
        "colab": {
          "base_uri": "https://localhost:8080/"
        },
        "id": "XZU1XQZbhGWf",
        "outputId": "e09db74b-f153-4cd1-de48-a44ef6527002"
      },
      "outputs": [
        {
          "output_type": "stream",
          "name": "stdout",
          "text": [
            "['Corinthians', 'Santos', 'São Paulo', 'Palmeiras']\n",
            "{'Corinthians', 'Santos', 'São Paulo', 'Palmeiras'}\n"
          ]
        }
      ],
      "source": [
        "times_paulistas = {'São Paulo', 'Corinthians', 'Santos', 'Palmeiras'}\n",
        "print(list(times_paulistas)) # LISTA PARA SER ALTERADA\n",
        "print(set(times_paulistas)) # TUPLA NÃO PODE SER ALTERADA"
      ]
    },
    {
      "cell_type": "markdown",
      "metadata": {
        "id": "ELgoMRAAUSjv"
      },
      "source": [
        "## 3\\. Dicionários"
      ]
    },
    {
      "cell_type": "markdown",
      "metadata": {
        "id": "CuLkQY76USjw"
      },
      "source": [
        "### **3.1. Motivação**"
      ]
    },
    {
      "cell_type": "markdown",
      "metadata": {
        "id": "K5Wnzl1UdShI"
      },
      "source": [
        "Para se conectar a uma rede wi-fi, você precisa de duas informações: o nome da rede e a senha de acesso. Quando você vai acessar uma nova rede, você encontra uma lista de redes disponíveis:"
      ]
    },
    {
      "cell_type": "code",
      "execution_count": 36,
      "metadata": {
        "colab": {
          "base_uri": "https://localhost:8080/"
        },
        "id": "Ah1dmE4Qdv-A",
        "outputId": "68956840-2122-4695-effd-895258e45c3c"
      },
      "outputs": [
        {
          "output_type": "stream",
          "name": "stdout",
          "text": [
            "WI-FI DISPONÍVEL: [{'nome': 'MARIA JOSÉ', 'senha': 'pokasideias'}]\n"
          ]
        }
      ],
      "source": [
        "wifi_disponiveis = []\n",
        "rede = {'nome': 'MARIA JOSÉ',\n",
        "        'senha': 'pokasideias'}\n",
        "\n",
        "wifi_disponiveis.append(rede)\n",
        "print(f'WI-FI DISPONÍVEL: {wifi_disponiveis}')"
      ]
    },
    {
      "cell_type": "markdown",
      "metadata": {
        "id": "auR4rPNAeCgO"
      },
      "source": [
        "Você consegue identificar quais são os nome de redes e suas respectivas senhas? Talvez uma `list` não seja a melhor opção para armazenar esse tipo de dado."
      ]
    },
    {
      "cell_type": "markdown",
      "metadata": {
        "id": "JENLdmHkUSjx"
      },
      "source": [
        "### **3.2. Definição**"
      ]
    },
    {
      "cell_type": "markdown",
      "metadata": {
        "id": "U3lwWzl38zuT"
      },
      "source": [
        "Armazenam sequências no formato chave-valor. São do tipo `dict`.\n"
      ]
    },
    {
      "cell_type": "code",
      "execution_count": 37,
      "metadata": {
        "colab": {
          "base_uri": "https://localhost:8080/"
        },
        "id": "OUR6zdcni2jS",
        "outputId": "89b99fa8-883a-4baa-ee60-4db30f442248"
      },
      "outputs": [
        {
          "output_type": "stream",
          "name": "stdout",
          "text": [
            "{'capital': 'Brasília', 'idioma': 'Português', 'população': 2309}\n",
            "<class 'dict'>\n"
          ]
        }
      ],
      "source": [
        "brasil = {'capital': 'Brasília', 'idioma': 'Português', 'população': 2309}\n",
        "print(brasil)\n",
        "print(type(brasil))"
      ]
    },
    {
      "cell_type": "markdown",
      "metadata": {
        "id": "cPj56yhmIJg4"
      },
      "source": [
        "Não é permite chaves duplicadas."
      ]
    },
    {
      "cell_type": "code",
      "execution_count": 38,
      "metadata": {
        "colab": {
          "base_uri": "https://localhost:8080/"
        },
        "id": "5a8o-NP4ITnd",
        "outputId": "fceaf6af-cd32-4628-acc5-6779eedf4a12"
      },
      "outputs": [
        {
          "output_type": "stream",
          "name": "stdout",
          "text": [
            "{'marca': 'Volkswagen', 'modelo': 'Tiguan', 'ano': 2021}\n"
          ]
        }
      ],
      "source": [
        "carro = {\n",
        "    'marca': 'Volkswagen',\n",
        "    'modelo': 'Tiguan',\n",
        "    'ano': 2022,\n",
        "    'ano': 2021\n",
        "}\n",
        "\n",
        "print(carro)"
      ]
    },
    {
      "cell_type": "markdown",
      "metadata": {
        "id": "0tE9-pPrOIxH"
      },
      "source": [
        "Podemos criar dicionários compostos:"
      ]
    },
    {
      "cell_type": "code",
      "execution_count": 39,
      "metadata": {
        "id": "bTeSsI9FOO4h"
      },
      "outputs": [],
      "source": [
        "cadastro = {\n",
        "    'joao': {\n",
        "        'nome': 'Joao Carlos',\n",
        "        'ano_nascimento': 1959,\n",
        "        'pais': {\n",
        "            'pai': {\n",
        "                'nome': 'Joao Baptista',\n",
        "                'ano_nascimento': 1930,\n",
        "            },\n",
        "            'mae': {\n",
        "                'nome': 'Maria Cobos',\n",
        "                'ano_nascimento': 1941,\n",
        "            },\n",
        "            'irmao':  {\n",
        "                'nome': 'Michel Baptista Cobos',\n",
        "                'ano_nascimento': 1977,\n",
        "            },\n",
        "        }\n",
        "    }\n",
        "}\n",
        "\n",
        "\n",
        "cadastro = cadastro['joao']['pais']['irmao']['ano_nascimento'] # CONSULTAS ATRAVÉS DE CHAVE"
      ]
    },
    {
      "cell_type": "code",
      "execution_count": 40,
      "metadata": {
        "colab": {
          "base_uri": "https://localhost:8080/"
        },
        "id": "hzJjKGtZ-DmB",
        "outputId": "0858eb0c-a8ce-413e-b19d-f6fe0c70da7b"
      },
      "outputs": [
        {
          "output_type": "stream",
          "name": "stdout",
          "text": [
            "ANO DE NASCIMENTO IRMÃO(A): 1977\n"
          ]
        }
      ],
      "source": [
        "print(f'ANO DE NASCIMENTO IRMÃO(A): {cadastro}')"
      ]
    },
    {
      "cell_type": "markdown",
      "metadata": {
        "id": "qcHSzY6kUSjy"
      },
      "source": [
        "### **3.3. Operações**"
      ]
    },
    {
      "cell_type": "code",
      "execution_count": 41,
      "metadata": {
        "id": "XmfvRWVTKZLn"
      },
      "outputs": [],
      "source": [
        "credito = {'063.573.798-26': 540, '278.836.058-34': 889}"
      ]
    },
    {
      "cell_type": "markdown",
      "metadata": {
        "id": "RVwYx41eI6BT"
      },
      "source": [
        "Elementos são acessados pela sua chave."
      ]
    },
    {
      "cell_type": "code",
      "execution_count": 42,
      "metadata": {
        "colab": {
          "base_uri": "https://localhost:8080/"
        },
        "id": "A05RBP9QKsgh",
        "outputId": "141fb2c4-0f2e-49b4-f459-38a188d85823"
      },
      "outputs": [
        {
          "output_type": "stream",
          "name": "stdout",
          "text": [
            "CPF 1: 540\n",
            "CPF 2: 889\n"
          ]
        }
      ],
      "source": [
        "score_1 = credito['063.573.798-26']\n",
        "score_2 = credito['278.836.058-34']\n",
        "\n",
        "print(f'CPF 1: {score_1}')\n",
        "print(f'CPF 2: {score_2}')"
      ]
    },
    {
      "cell_type": "markdown",
      "metadata": {
        "id": "OZYYChDVLEQm"
      },
      "source": [
        "Elementos são atualizados pela sua chave."
      ]
    },
    {
      "cell_type": "code",
      "execution_count": 43,
      "metadata": {
        "colab": {
          "base_uri": "https://localhost:8080/"
        },
        "id": "crkXt8TzLfp2",
        "outputId": "d79fe3cc-860e-4174-e5c5-ee963e1a8b3b"
      },
      "outputs": [
        {
          "output_type": "stream",
          "name": "stdout",
          "text": [
            "{'063.573.798-26': 990, '278.836.058-34': 889}\n"
          ]
        }
      ],
      "source": [
        "credito['063.573.798-26'] = 990\n",
        "print(credito)"
      ]
    },
    {
      "cell_type": "markdown",
      "metadata": {
        "id": "pE_a-ii5L82k"
      },
      "source": [
        "Para adicionar um novo elemento, basta criar um novo elemento chave-valor:"
      ]
    },
    {
      "cell_type": "code",
      "execution_count": 44,
      "metadata": {
        "colab": {
          "base_uri": "https://localhost:8080/"
        },
        "id": "Dq0mM6URMAe-",
        "outputId": "33a8faa7-4612-46d0-8373-9ed4036beb2a"
      },
      "outputs": [
        {
          "output_type": "stream",
          "name": "stdout",
          "text": [
            "{'063.573.798-26': 990, '278.836.058-34': 889, '349.349.369-84': 1000}\n"
          ]
        }
      ],
      "source": [
        "credito['349.349.369-84'] = 1000\n",
        "print(credito)"
      ]
    },
    {
      "cell_type": "markdown",
      "metadata": {
        "id": "UCUO_UdUJPI8"
      },
      "source": [
        "### **3.4. Métodos**"
      ]
    },
    {
      "cell_type": "markdown",
      "metadata": {
        "id": "cncT52BYJVeD"
      },
      "source": [
        "São métodos nativos do Python que nos ajudam a trabalhar no dia a dia com dicionários."
      ]
    },
    {
      "cell_type": "code",
      "execution_count": 45,
      "metadata": {
        "id": "qwxwzPsTJcXn"
      },
      "outputs": [],
      "source": [
        "artigo = dict(\n",
        "    titulo = 'Modulo 02 | Python: Estrutura de dados',\n",
        "    corpo = 'Topicos, Aulas, Listas, Conjuntos, Dicionários, ...',\n",
        "    total_caracteres = 1530\n",
        ")"
      ]
    },
    {
      "cell_type": "code",
      "execution_count": 46,
      "metadata": {
        "colab": {
          "base_uri": "https://localhost:8080/"
        },
        "id": "QZJ4D_eRNyc_",
        "outputId": "8c06887f-040e-4093-91f6-6ffb24e4b9b6"
      },
      "outputs": [
        {
          "output_type": "stream",
          "name": "stdout",
          "text": [
            "{'titulo': 'Modulo 02 | Python: Estrutura de dados', 'corpo': 'Topicos, Aulas, Listas, Conjuntos, Dicionários, ...', 'total_caracteres': 1701}\n"
          ]
        }
      ],
      "source": [
        "# ADICIONAR / ATUALIZAR UM ELEMENTO PELO CHAVE-VALOR: dict.update(dict)\n",
        "artigo.update({'total_caracteres': 1701})\n",
        "print(artigo)"
      ]
    },
    {
      "cell_type": "code",
      "execution_count": 47,
      "metadata": {
        "colab": {
          "base_uri": "https://localhost:8080/"
        },
        "id": "ofz4lbceMx_4",
        "outputId": "fe19103d-54b5-4b1e-d04c-058c28b027cd"
      },
      "outputs": [
        {
          "output_type": "stream",
          "name": "stdout",
          "text": [
            "{'titulo': 'Modulo 02 | Python: Estrutura de dados', 'corpo': 'Topicos, Aulas, Listas, Conjuntos, Dicionários, ...'}\n"
          ]
        }
      ],
      "source": [
        "# REMOVENDO UM ELEMENTO PELO CHAVE: dict.pop(key)\n",
        "total_caracteres = artigo.pop('total_caracteres')\n",
        "print(artigo)"
      ]
    },
    {
      "cell_type": "markdown",
      "metadata": {
        "id": "h0bXPXycjfpw"
      },
      "source": [
        "### **3.5. Conversão**"
      ]
    },
    {
      "cell_type": "markdown",
      "metadata": {
        "id": "CnzLEEYOjfp2"
      },
      "source": [
        "Podemos converter as chaves e os items de um dicionário em uma lista."
      ]
    },
    {
      "cell_type": "code",
      "execution_count": 48,
      "metadata": {
        "id": "10CkP3RjkD9x"
      },
      "outputs": [],
      "source": [
        "artigo = dict(\n",
        "    titulo = 'Modulo 02 | Python: Estrutura de dados',\n",
        "    corpo = 'Topicos, Aulas, Listas, Conjuntos, Dicionários, ...',\n",
        "    total_caracteres = 1530\n",
        ")"
      ]
    },
    {
      "cell_type": "code",
      "execution_count": 49,
      "metadata": {
        "colab": {
          "base_uri": "https://localhost:8080/"
        },
        "id": "bwmEXzxnjfp3",
        "outputId": "17c24c04-554b-465a-a349-0783684153c9"
      },
      "outputs": [
        {
          "output_type": "stream",
          "name": "stdout",
          "text": [
            "['titulo', 'corpo', 'total_caracteres']\n",
            "<class 'list'>\n"
          ]
        }
      ],
      "source": [
        "chaves = list(artigo.keys()) # EXTRAINDO AS CHAVES: \"titulo\", \"corpo\"\n",
        "\n",
        "print(chaves)\n",
        "print(type(chaves))"
      ]
    },
    {
      "cell_type": "code",
      "execution_count": 50,
      "metadata": {
        "colab": {
          "base_uri": "https://localhost:8080/"
        },
        "id": "UiP-UQxhjfp5",
        "outputId": "687ae1d3-a377-4916-b6ef-acb32de4adc9"
      },
      "outputs": [
        {
          "output_type": "stream",
          "name": "stdout",
          "text": [
            "['Modulo 02 | Python: Estrutura de dados', 'Topicos, Aulas, Listas, Conjuntos, Dicionários, ...', 1530]\n",
            "<class 'list'>\n"
          ]
        }
      ],
      "source": [
        "valores = list(artigo.values()) # EXTRAINDO TUDO DENTRO DA CHAVE:\n",
        "\n",
        "print(valores)\n",
        "print(type(valores))"
      ]
    },
    {
      "cell_type": "markdown",
      "metadata": {
        "id": "Nq0WCx8HUSjz"
      },
      "source": [
        "### **3.6. Revisitando a motivação**"
      ]
    },
    {
      "cell_type": "code",
      "execution_count": 51,
      "metadata": {
        "id": "AZHrKx9ZesI5"
      },
      "outputs": [],
      "source": [
        "wifi_disponiveis = []"
      ]
    },
    {
      "cell_type": "code",
      "execution_count": 52,
      "metadata": {
        "id": "4y3-5GCGeZpR"
      },
      "outputs": [],
      "source": [
        "rede = {'nome': 'rede1', 'senha': 'cnx_cnx'}\n",
        "wifi_disponiveis.append(rede)"
      ]
    },
    {
      "cell_type": "code",
      "execution_count": 53,
      "metadata": {
        "id": "CPzYATO8ev7D"
      },
      "outputs": [],
      "source": [
        "rede = {'nome': 'uai-fi', 'senha': 'r3d3'}\n",
        "wifi_disponiveis.append(rede)"
      ]
    },
    {
      "cell_type": "code",
      "execution_count": 54,
      "metadata": {
        "colab": {
          "base_uri": "https://localhost:8080/"
        },
        "id": "0YznnPL4e3H1",
        "outputId": "a50bd398-cfc4-4248-c5ef-3021427bbb19"
      },
      "outputs": [
        {
          "output_type": "stream",
          "name": "stdout",
          "text": [
            "[{'nome': 'rede1', 'senha': 'cnx_cnx'}, {'nome': 'uai-fi', 'senha': 'r3d3'}]\n"
          ]
        }
      ],
      "source": [
        "print(wifi_disponiveis)"
      ]
    }
  ],
  "metadata": {
    "colab": {
      "provenance": []
    },
    "kernelspec": {
      "display_name": "Python 3",
      "name": "python3"
    },
    "language_info": {
      "codemirror_mode": {
        "name": "ipython",
        "version": 3
      },
      "file_extension": ".py",
      "mimetype": "text/x-python",
      "name": "python",
      "nbconvert_exporter": "python",
      "pygments_lexer": "ipython3",
      "version": "3.11.7"
    }
  },
  "nbformat": 4,
  "nbformat_minor": 0
}