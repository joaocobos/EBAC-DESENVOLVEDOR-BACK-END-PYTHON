{
  "nbformat": 4,
  "nbformat_minor": 0,
  "metadata": {
    "colab": {
      "provenance": []
    },
    "kernelspec": {
      "name": "python3",
      "display_name": "Python 3"
    }
  },
  "cells": [
    {
      "cell_type": "markdown",
      "metadata": {
        "id": "KJqp9AANOCtf"
      },
      "source": [
        "<img src=\"https://raw.githubusercontent.com/andre-marcos-perez/ebac-course-utils/main/media/logo/newebac_logo_black_half.png\" alt=\"ebac-logo\">\n",
        "\n",
        "---\n",
        "\n",
        "# **Módulo 02** | Python: Estruturas de Dados\n",
        "Caderno de **Exercícios**<br>\n",
        "Professor [André Perez](https://www.linkedin.com/in/andremarcosperez/)\n",
        "\n",
        "---"
      ]
    },
    {
      "cell_type": "markdown",
      "metadata": {
        "id": "d9jDtUbDOE1-"
      },
      "source": [
        "# **Tópicos**\n",
        "\n",
        "<ol type=\"1\">\n",
        "  <li>Listas;</li>\n",
        "  <li>Conjuntos;</li>\n",
        "  <li>Dicionários.</li>\n",
        "</ol>"
      ]
    },
    {
      "cell_type": "markdown",
      "metadata": {
        "id": "SmoHgt-lwkpD"
      },
      "source": [
        "---"
      ]
    },
    {
      "cell_type": "markdown",
      "metadata": {
        "id": "GABI6OW8OfQ2"
      },
      "source": [
        "# **Exercícios**"
      ]
    },
    {
      "cell_type": "markdown",
      "metadata": {
        "id": "muD1vxozykSC"
      },
      "source": [
        "## 1\\. Listas"
      ]
    },
    {
      "cell_type": "markdown",
      "metadata": {
        "id": "ahrFfCuBxJKs"
      },
      "source": [
        "Criei uma lista chamada `filmes` com o nome dos 10 primeiros filmes mais bem avaliados no site no [IMDB](https://www.imdb.com/chart/top/). Imprima o resultado."
      ]
    },
    {
      "cell_type": "code",
      "metadata": {
        "id": "OgL6Hv3bzOHI",
        "colab": {
          "base_uri": "https://localhost:8080/"
        },
        "outputId": "0a5b370e-5828-4008-bd82-4f5a14e2170d"
      },
      "source": [
        "filmes = [\n",
        "    \"The Shawshank Redemption (1994)\",\n",
        "    \"The Godfather (1972)\",\n",
        "    \"The Dark Knight (2008)\",\n",
        "    \"The Godfather Part II (1974)\",\n",
        "    \"12 Angry Men (1957)\",\n",
        "    \"Schindler's List (1993)\",\n",
        "    \"The Lord of the Rings: The Return of the King (2003)\",\n",
        "    \"Pulp Fiction (1994)\",\n",
        "    \"The Lord of the Rings: The Fellowship of the Ring (2001)\",\n",
        "    \"The Good, the Bad and the Ugly (1966)\"\n",
        "    ]\n",
        "\n",
        "print(filmes)\n",
        "print()\n",
        "\n",
        "print(f'Quantidade de filmes: {len(filmes)}')"
      ],
      "execution_count": 1,
      "outputs": [
        {
          "output_type": "stream",
          "name": "stdout",
          "text": [
            "['The Shawshank Redemption (1994)', 'The Godfather (1972)', 'The Dark Knight (2008)', 'The Godfather Part II (1974)', '12 Angry Men (1957)', \"Schindler's List (1993)\", 'The Lord of the Rings: The Return of the King (2003)', 'Pulp Fiction (1994)', 'The Lord of the Rings: The Fellowship of the Ring (2001)', 'The Good, the Bad and the Ugly (1966)']\n",
            "\n",
            "Quantidade de filmes: 10\n"
          ]
        }
      ]
    },
    {
      "cell_type": "markdown",
      "metadata": {
        "id": "KI9zQRT2xa7m"
      },
      "source": [
        "Simule a movimentação do *ranking*. Utilize os métodos `insert` e `pop` para trocar a posição do primeiro e do segundo filme da lista. Imprima o resultado.\n",
        "\n"
      ]
    },
    {
      "cell_type": "code",
      "metadata": {
        "id": "zX3mA3_GzrXH",
        "colab": {
          "base_uri": "https://localhost:8080/"
        },
        "outputId": "826b9888-81cb-4fd7-dfbd-aff33f0846a9"
      },
      "source": [
        "# Troca de posição entre o primeiro e o segundo filme da lista:\n",
        "\n",
        "filmes.insert(0, filmes.pop(1))\n",
        "\n",
        "print(filmes)"
      ],
      "execution_count": 2,
      "outputs": [
        {
          "output_type": "stream",
          "name": "stdout",
          "text": [
            "['The Godfather (1972)', 'The Shawshank Redemption (1994)', 'The Dark Knight (2008)', 'The Godfather Part II (1974)', '12 Angry Men (1957)', \"Schindler's List (1993)\", 'The Lord of the Rings: The Return of the King (2003)', 'Pulp Fiction (1994)', 'The Lord of the Rings: The Fellowship of the Ring (2001)', 'The Good, the Bad and the Ugly (1966)']\n"
          ]
        }
      ]
    },
    {
      "cell_type": "markdown",
      "metadata": {
        "id": "zMN1Q3jdwoJm"
      },
      "source": [
        "---"
      ]
    },
    {
      "cell_type": "markdown",
      "metadata": {
        "id": "lxa5L6uF0ZJE"
      },
      "source": [
        "## 2\\. Conjuntos"
      ]
    },
    {
      "cell_type": "markdown",
      "metadata": {
        "id": "9JahS2Kj0d5u"
      },
      "source": [
        "Aconteceu um erro no seu *ranking*. Simule a duplicação dos três últimos filmes da lista. Imprima o resultado."
      ]
    },
    {
      "cell_type": "code",
      "metadata": {
        "id": "BnjnLBNC6PGe",
        "colab": {
          "base_uri": "https://localhost:8080/"
        },
        "outputId": "04f693a7-eb14-4ce0-db5a-4576cf3e3b90"
      },
      "source": [
        "# Adicionando novamente os três últimos filmes da lista:\n",
        "\n",
        "filmes.append(\"Pulp Fiction (1994)\")\n",
        "filmes.append(\"The Lord of the Rings: The Fellowship of the Ring (2001)\")\n",
        "filmes.append(\"The Good, the Bad and the Ugly (1966)\")\n",
        "\n",
        "print(filmes)\n",
        "print()\n",
        "\n",
        "print(f'Quantidade de filmes: {len(filmes)}')"
      ],
      "execution_count": 3,
      "outputs": [
        {
          "output_type": "stream",
          "name": "stdout",
          "text": [
            "['The Godfather (1972)', 'The Shawshank Redemption (1994)', 'The Dark Knight (2008)', 'The Godfather Part II (1974)', '12 Angry Men (1957)', \"Schindler's List (1993)\", 'The Lord of the Rings: The Return of the King (2003)', 'Pulp Fiction (1994)', 'The Lord of the Rings: The Fellowship of the Ring (2001)', 'The Good, the Bad and the Ugly (1966)', 'Pulp Fiction (1994)', 'The Lord of the Rings: The Fellowship of the Ring (2001)', 'The Good, the Bad and the Ugly (1966)']\n",
            "\n",
            "Quantidade de filmes: 13\n"
          ]
        }
      ]
    },
    {
      "cell_type": "markdown",
      "metadata": {
        "id": "suxTfCJB6ZiX"
      },
      "source": [
        "Utiliza a conversão `set` e `list` para remover os valores duplicados. Imprima o resultado."
      ]
    },
    {
      "cell_type": "code",
      "metadata": {
        "id": "ZvUGN-0n6joM",
        "colab": {
          "base_uri": "https://localhost:8080/"
        },
        "outputId": "b007dbec-abdc-45c3-dde9-907f5c5962f2"
      },
      "source": [
        "# Removendo os valores duplicados da lista:\n",
        "\n",
        "filmes = list(set(filmes))\n",
        "\n",
        "print(filmes)\n",
        "print()\n",
        "\n",
        "print(f'Quantidade de filmes: {len(filmes)}')\n",
        "print(type(filmes))"
      ],
      "execution_count": 4,
      "outputs": [
        {
          "output_type": "stream",
          "name": "stdout",
          "text": [
            "['The Shawshank Redemption (1994)', 'The Good, the Bad and the Ugly (1966)', 'The Lord of the Rings: The Return of the King (2003)', 'The Godfather (1972)', \"Schindler's List (1993)\", 'The Godfather Part II (1974)', '12 Angry Men (1957)', 'The Dark Knight (2008)', 'The Lord of the Rings: The Fellowship of the Ring (2001)', 'Pulp Fiction (1994)']\n",
            "\n",
            "Quantidade de filmes: 10\n",
            "<class 'list'>\n"
          ]
        }
      ]
    },
    {
      "cell_type": "markdown",
      "metadata": {
        "id": "ShkK35eQ6pAM"
      },
      "source": [
        "---"
      ]
    },
    {
      "cell_type": "markdown",
      "metadata": {
        "id": "EL_FzmxL6rTv"
      },
      "source": [
        "## 3\\. Dicionários"
      ]
    },
    {
      "cell_type": "markdown",
      "metadata": {
        "id": "i8l0gFqRCpfT"
      },
      "source": [
        "Repita os exercícios da parte 1 (listas). Os elementos da lista `filmes` devem ser dicionários no seguinte formato: `{'nome': <nome-do-filme>, 'ano': <ano do filme>}, 'sinopse': <sinopse do filme>}`."
      ]
    },
    {
      "cell_type": "code",
      "source": [
        "filmes = {\n",
        "\n",
        "    'TOP1': {\n",
        "        'nome': 'Um Sonho de Liberdade',\n",
        "        'ano': 1994,\n",
        "        'sinopse': 'Dois homens presos se reúnem ao longo de vários anos, encontrando consolo e eventual redenção através de atos de decência comum.'\n",
        "    },\n",
        "    'TOP2': {\n",
        "        'nome': 'O padrinho',\n",
        "        'ano': 1972,\n",
        "        'sinopse': 'Don Vito Corleone, chefe de uma família mafiosa, decide entregar seu império ao seu filho mais novo, Michael. No entanto, sua decisão coloca involuntariamente a vida de seus entes queridos em grave perigo.'\n",
        "    },\n",
        "    'TOP3': {\n",
        "        'nome': 'O cavaleiro das trevas',\n",
        "        'ano': 2008,\n",
        "        'sinopse': 'Quando a ameaça conhecida como Coringa causa estragos e caos no povo de Gotham, Batman deve aceitar um dos maiores testes psicológicos e físicos de sua capacidade de combater a injustiça.'\n",
        "    },\n",
        "    'TOP4': {\n",
        "        'nome': 'O padrinho parte II',\n",
        "        'ano': 1974,\n",
        "        'sinopse': 'O início da vida e carreira de Vito Corleone na cidade de Nova York dos anos 1920 é retratado, enquanto seu filho, Michael, expande e fortalece seu controle sobre o sindicato do crime familiar.'\n",
        "    },\n",
        "    'TOP5': {\n",
        "        'nome': 'Doze homens em fúria',\n",
        "        'ano': 1957,\n",
        "        'sinopse': 'The jury in a New York City murder trial is frustrated by a single member whose skeptical caution forces them to more carefully consider the evidence before jumping to a hasty verdict.'\n",
        "    },\n",
        "    'TOP6': {\n",
        "        'nome': 'A lista de schindler',\n",
        "        'ano': 1993,\n",
        "        'sinopse': 'Na Polónia ocupada pelos alemães durante a Segunda Guerra Mundial, o industrial Oskar Schindler gradualmente fica preocupado com a sua força de trabalho judaica depois de testemunhar a perseguição pelos nazis.'\n",
        "    },\n",
        "    'TOP7': {\n",
        "        'nome': 'O senhor dos anéis, o regresso do rei',\n",
        "        'ano': 2003,\n",
        "        'sinopse': 'Gandalf e Aragorn lideram o Mundo dos Homens contra o exército de Sauron para desviar o olhar de Frodo e Sam enquanto eles se aproximam da Montanha da Perdição com o Um Anel.'\n",
        "    },\n",
        "    'TOP8': {\n",
        "        'nome': 'Pulp fiction',\n",
        "        'ano': 1994,\n",
        "        'sinopse': 'As vidas de dois assassinos da máfia, um boxeador, um gangster e sua esposa, e uma dupla de bandidos de restaurante se entrelaçam em quatro histórias de violência e redenção.'\n",
        "    },\n",
        "    'TOP9': {\n",
        "        'nome': 'O senhor dos anéis, a irmandade do anel',\n",
        "        'ano': 2001,\n",
        "        'sinopse': 'Um humilde Hobbit do Condado e oito companheiros partem em uma jornada para destruir o poderoso Um Anel e salvar a Terra-média do Lorde das Trevas Sauron.'\n",
        "    },\n",
        "    'TOP10': {\n",
        "        'nome': 'O bom, o mau e o vilão',\n",
        "        'ano': 1966,\n",
        "        'sinopse': 'Um golpe de caça a recompensas une dois homens em uma aliança difícil contra um terceiro em uma corrida para encontrar uma fortuna em ouro enterrada em um cemitério remoto.'\n",
        "    }\n",
        "}\n",
        "\n",
        "print(filmes)"
      ],
      "metadata": {
        "id": "jN7KqL8rVq5X",
        "colab": {
          "base_uri": "https://localhost:8080/"
        },
        "outputId": "9afc7c38-cceb-42e7-bcc2-2409935368a0"
      },
      "execution_count": 5,
      "outputs": [
        {
          "output_type": "stream",
          "name": "stdout",
          "text": [
            "{'TOP1': {'nome': 'Um Sonho de Liberdade', 'ano': 1994, 'sinopse': 'Dois homens presos se reúnem ao longo de vários anos, encontrando consolo e eventual redenção através de atos de decência comum.'}, 'TOP2': {'nome': 'O padrinho', 'ano': 1972, 'sinopse': 'Don Vito Corleone, chefe de uma família mafiosa, decide entregar seu império ao seu filho mais novo, Michael. No entanto, sua decisão coloca involuntariamente a vida de seus entes queridos em grave perigo.'}, 'TOP3': {'nome': 'O cavaleiro das trevas', 'ano': 2008, 'sinopse': 'Quando a ameaça conhecida como Coringa causa estragos e caos no povo de Gotham, Batman deve aceitar um dos maiores testes psicológicos e físicos de sua capacidade de combater a injustiça.'}, 'TOP4': {'nome': 'O padrinho parte II', 'ano': 1974, 'sinopse': 'O início da vida e carreira de Vito Corleone na cidade de Nova York dos anos 1920 é retratado, enquanto seu filho, Michael, expande e fortalece seu controle sobre o sindicato do crime familiar.'}, 'TOP5': {'nome': 'Doze homens em fúria', 'ano': 1957, 'sinopse': 'The jury in a New York City murder trial is frustrated by a single member whose skeptical caution forces them to more carefully consider the evidence before jumping to a hasty verdict.'}, 'TOP6': {'nome': 'A lista de schindler', 'ano': 1993, 'sinopse': 'Na Polónia ocupada pelos alemães durante a Segunda Guerra Mundial, o industrial Oskar Schindler gradualmente fica preocupado com a sua força de trabalho judaica depois de testemunhar a perseguição pelos nazis.'}, 'TOP7': {'nome': 'O senhor dos anéis, o regresso do rei', 'ano': 2003, 'sinopse': 'Gandalf e Aragorn lideram o Mundo dos Homens contra o exército de Sauron para desviar o olhar de Frodo e Sam enquanto eles se aproximam da Montanha da Perdição com o Um Anel.'}, 'TOP8': {'nome': 'Pulp fiction', 'ano': 1994, 'sinopse': 'As vidas de dois assassinos da máfia, um boxeador, um gangster e sua esposa, e uma dupla de bandidos de restaurante se entrelaçam em quatro histórias de violência e redenção.'}, 'TOP9': {'nome': 'O senhor dos anéis, a irmandade do anel', 'ano': 2001, 'sinopse': 'Um humilde Hobbit do Condado e oito companheiros partem em uma jornada para destruir o poderoso Um Anel e salvar a Terra-média do Lorde das Trevas Sauron.'}, 'TOP10': {'nome': 'O bom, o mau e o vilão', 'ano': 1966, 'sinopse': 'Um golpe de caça a recompensas une dois homens em uma aliança difícil contra um terceiro em uma corrida para encontrar uma fortuna em ouro enterrada em um cemitério remoto.'}}\n"
          ]
        }
      ]
    },
    {
      "cell_type": "markdown",
      "source": [
        "CONSULTANDO DENTRO DE CHAVES [TOP8]\n",
        "\n"
      ],
      "metadata": {
        "id": "uAxyb6c6V2q6"
      }
    },
    {
      "cell_type": "code",
      "source": [
        "print(filmes['TOP8']['nome'])"
      ],
      "metadata": {
        "id": "iBfGiOG1V48G",
        "colab": {
          "base_uri": "https://localhost:8080/"
        },
        "outputId": "ddfa4900-7e92-4daa-f0f2-c0a9273db890"
      },
      "execution_count": 6,
      "outputs": [
        {
          "output_type": "stream",
          "name": "stdout",
          "text": [
            "Pulp fiction\n"
          ]
        }
      ]
    }
  ]
}